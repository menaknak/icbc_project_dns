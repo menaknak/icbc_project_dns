{
 "cells": [
  {
   "cell_type": "code",
   "execution_count": 54,
   "id": "figured-drinking",
   "metadata": {},
   "outputs": [],
   "source": [
    "import json\n",
    "with open(\"../measure_data/2022-11-28/POLL.json\") as f:\n",
    "    poll = json.load(f)"
   ]
  },
  {
   "cell_type": "code",
   "execution_count": 1,
   "id": "liberal-stranger",
   "metadata": {},
   "outputs": [],
   "source": [
    "from cachedipinfo import fastwhois\n",
    "FastWhois = fastwhois.fastwhois()"
   ]
  },
  {
   "cell_type": "code",
   "execution_count": 5,
   "id": "variable-amber",
   "metadata": {},
   "outputs": [
    {
     "data": {
      "text/plain": [
       "866"
      ]
     },
     "execution_count": 5,
     "metadata": {},
     "output_type": "execute_result"
    }
   ],
   "source": [
    "len(FastWhois.localData)"
   ]
  },
  {
   "cell_type": "code",
   "execution_count": 9,
   "id": "36c5ddf2",
   "metadata": {},
   "outputs": [
    {
     "data": {
      "text/plain": [
       "{'code': 0,\n",
       " 'data': {'myip': '2001:da8:ff:212::11:1',\n",
       "  'ip': {'query': '59.51.78.210', 'start': '', 'end': ''},\n",
       "  'location': '湖南省 电信DNS服务器',\n",
       "  'country': '湖南省',\n",
       "  'local': '电信DNS服务器'}}"
      ]
     },
     "execution_count": 9,
     "metadata": {},
     "output_type": "execute_result"
    }
   ],
   "source": [
    "import requests\n",
    "import json\n",
    "def onlineIntactGeo( ip):\n",
    "    geoapi = \"http://ip.zxinc.org/api.php?type=json&ip=\"\n",
    "    headers = {'User-Agent':'Mozilla/5.0 (Windows NT 10.0; Win64; x64; rv:78.0) Gecko/20100101 Firefox/78.0'}\n",
    "    url = geoapi + ip\n",
    "    r = requests.get(url,headers=headers)\n",
    "    s = json.loads(r.text[0:])\n",
    "    return s\n",
    "\n",
    "a = onlineIntactGeo('59.51.78.210')\n",
    "a"
   ]
  },
  {
   "cell_type": "code",
   "execution_count": 2,
   "id": "eleven-simple",
   "metadata": {},
   "outputs": [
    {
     "data": {
      "text/plain": [
       "{'ip_seg': '59.51.0.0/17',\n",
       " 'net_name': 'CHINANET-HN',\n",
       " 'inetnum': '59.51.0.0-59.51.127.255',\n",
       " 'geo': '湖南省 电信DNS服务器'}"
      ]
     },
     "execution_count": 2,
     "metadata": {},
     "output_type": "execute_result"
    }
   ],
   "source": [
    "FastWhois.query_intactgeo(\"59.51.78.210\")"
   ]
  },
  {
   "cell_type": "code",
   "execution_count": 1,
   "id": "original-respect",
   "metadata": {},
   "outputs": [],
   "source": [
    "from nettopo import topobuild\n",
    "NetTopo = topobuild.topobuild()"
   ]
  },
  {
   "cell_type": "code",
   "execution_count": 61,
   "id": "boxed-florida",
   "metadata": {},
   "outputs": [
    {
     "name": "stdout",
     "output_type": "stream",
     "text": [
      "1402 313\n"
     ]
    }
   ],
   "source": [
    "pairs1 = set()\n",
    "pairs2 = set()\n",
    "for p in poll:\n",
    "    pair = p['monitor'] + '-' + p['dect_ip']\n",
    "    if '.' in pair:\n",
    "        if pair in NetTopo.localData:\n",
    "            pairs1.add(pair)\n",
    "        else:\n",
    "            pairs2.add(pair)\n",
    "print(len(pairs1), len(pairs2))"
   ]
  },
  {
   "cell_type": "code",
   "execution_count": 47,
   "id": "informational-instruction",
   "metadata": {},
   "outputs": [],
   "source": [
    "with open(\"../measure_data/2022-11-28/MTR.json\") as f:\n",
    "    mtr = json.load(f)"
   ]
  },
  {
   "cell_type": "code",
   "execution_count": 48,
   "id": "allied-bathroom",
   "metadata": {},
   "outputs": [],
   "source": [
    "for m in mtr:\n",
    "    if (':' in m['monitor']) ^ (':' not in m['dest_ip']):\n",
    "        NetTopo.mtr2topo(m)\n",
    "NetTopo.update()"
   ]
  },
  {
   "cell_type": "code",
   "execution_count": 49,
   "id": "weird-calcium",
   "metadata": {},
   "outputs": [
    {
     "data": {
      "text/plain": [
       "5227"
      ]
     },
     "execution_count": 49,
     "metadata": {},
     "output_type": "execute_result"
    }
   ],
   "source": [
    "len(NetTopo.localData)"
   ]
  },
  {
   "cell_type": "code",
   "execution_count": 50,
   "id": "incoming-delicious",
   "metadata": {},
   "outputs": [
    {
     "name": "stdout",
     "output_type": "stream",
     "text": [
      "3068 2159\n"
     ]
    }
   ],
   "source": [
    "cnt4 = cnt6 = 0\n",
    "for key in NetTopo.localData:\n",
    "    if \":\" in key:\n",
    "        cnt6 += 1\n",
    "    if \".\" in key:\n",
    "        cnt4 += 1\n",
    "print(cnt4, cnt6)"
   ]
  },
  {
   "cell_type": "code",
   "execution_count": 53,
   "id": "spectacular-latitude",
   "metadata": {},
   "outputs": [
    {
     "name": "stdout",
     "output_type": "stream",
     "text": [
      "308 315\n"
     ]
    },
    {
     "data": {
      "text/plain": [
       "(array([116.,  32.,  20.,  18.,  13.,  13.,   8.,  16.,  22.,  12.,   9.,\n",
       "         10.,   7.,   4.,   2.,   2.,   1.,   0.,   0.,   0.,   1.,   1.,\n",
       "          0.,   0.,   0.,   0.,   0.,   0.,   0.,   0.,   0.,   0.,   0.,\n",
       "          0.,   0.,   0.,   0.,   0.,   0.,   0.,   0.,   0.,   0.,   0.,\n",
       "          0.,   0.,   0.,   0.,   0.,   1.]),\n",
       " array([  1.  ,   3.02,   5.04,   7.06,   9.08,  11.1 ,  13.12,  15.14,\n",
       "         17.16,  19.18,  21.2 ,  23.22,  25.24,  27.26,  29.28,  31.3 ,\n",
       "         33.32,  35.34,  37.36,  39.38,  41.4 ,  43.42,  45.44,  47.46,\n",
       "         49.48,  51.5 ,  53.52,  55.54,  57.56,  59.58,  61.6 ,  63.62,\n",
       "         65.64,  67.66,  69.68,  71.7 ,  73.72,  75.74,  77.76,  79.78,\n",
       "         81.8 ,  83.82,  85.84,  87.86,  89.88,  91.9 ,  93.92,  95.94,\n",
       "         97.96,  99.98, 102.  ]),\n",
       " <BarContainer object of 50 artists>)"
      ]
     },
     "execution_count": 53,
     "metadata": {},
     "output_type": "execute_result"
    },
    {
     "data": {
      "image/png": "[encoded data removed]",
      "text/plain": [
       "<Figure size 432x288 with 1 Axes>"
      ]
     },
     "metadata": {
      "needs_background": "light"
     },
     "output_type": "display_data"
    }
   ],
   "source": [
    "ms = set()\n",
    "ds = set()\n",
    "mcnt = {}\n",
    "for key in NetTopo.localData:\n",
    "    if \".\" in key:\n",
    "        m, d = key.split(\"-\")\n",
    "        if m in mcnt:\n",
    "            mcnt[m] += 1\n",
    "        else:\n",
    "            mcnt[m] = 1\n",
    "        ms.add(m)\n",
    "        ds.add(d)\n",
    "print(len(ms), len(ds))\n",
    "mc = []\n",
    "for m in mcnt:\n",
    "    mc.append(mcnt[m])\n",
    "from matplotlib import pyplot as plt\n",
    "plt.hist(mc, bins = 50)"
   ]
  },
  {
   "cell_type": "code",
   "execution_count": 1,
   "id": "engaged-montreal",
   "metadata": {},
   "outputs": [],
   "source": [
    "from anomalydetection import detection"
   ]
  },
  {
   "cell_type": "code",
   "execution_count": 2,
   "id": "flexible-workstation",
   "metadata": {},
   "outputs": [],
   "source": [
    "d = detection.timingdetection()"
   ]
  },
  {
   "cell_type": "code",
   "execution_count": 3,
   "id": "local-father",
   "metadata": {},
   "outputs": [],
   "source": [
    "from dataagg import aggregation"
   ]
  },
  {
   "cell_type": "code",
   "execution_count": 4,
   "id": "royal-defense",
   "metadata": {},
   "outputs": [],
   "source": [
    "c = aggregation.aggregation(datauri=\"POLL.json\", alldata=True, metric=\"all_time\")\n",
    "xy = c.overallAgg()"
   ]
  },
  {
   "cell_type": "code",
   "execution_count": 5,
   "id": "municipal-certification",
   "metadata": {},
   "outputs": [],
   "source": [
    "tooBig, tooSmall = d.gaussDetect(xy)"
   ]
  },
  {
   "cell_type": "code",
   "execution_count": 6,
   "id": "original-accounting",
   "metadata": {},
   "outputs": [
    {
     "name": "stdout",
     "output_type": "stream",
     "text": [
      "The following are the too big measurements (mean:181.1999536486219, std:15.61170150123155):\n",
      "2022-11-09 20:02:30: all_time is 239.66967305524238\n",
      "2022-11-09 21:27:30: all_time is 259.45762711864404\n",
      "2022-11-09 21:32:30: all_time is 274.97522522522524\n",
      "2022-11-09 21:37:30: all_time is 288.5819209039548\n",
      "2022-11-09 21:47:30: all_time is 252.43799772468714\n"
     ]
    }
   ],
   "source": [
    "d.tooBigInfo(tooBig, \"all_time\")"
   ]
  },
  {
   "cell_type": "code",
   "execution_count": 8,
   "id": "unauthorized-thought",
   "metadata": {},
   "outputs": [
    {
     "name": "stdout",
     "output_type": "stream",
     "text": [
      "The following are the too small measurements (mean:181.1999536486219, std:15.61170150123155):\n"
     ]
    }
   ],
   "source": [
    "d.tooSmallInfo(tooSmall, \"all_time\")"
   ]
  },
  {
   "cell_type": "code",
   "execution_count": 4,
   "id": "excellent-monday",
   "metadata": {},
   "outputs": [],
   "source": [
    "import numpy as np\n",
    "xy = np.array(xy)"
   ]
  },
  {
   "cell_type": "code",
   "execution_count": 5,
   "id": "apparent-match",
   "metadata": {},
   "outputs": [],
   "source": [
    "x = xy[:,0]\n",
    "y = xy[:,1]"
   ]
  },
  {
   "cell_type": "code",
   "execution_count": 6,
   "id": "joined-unknown",
   "metadata": {},
   "outputs": [
    {
     "data": {
      "text/plain": [
       "[<matplotlib.lines.Line2D at 0x7f91031fb470>]"
      ]
     },
     "execution_count": 6,
     "metadata": {},
     "output_type": "execute_result"
    },
    {
     "data": {
      "image/png": "[encoded data removed]",
      "text/plain": [
       "<Figure size 432x288 with 1 Axes>"
      ]
     },
     "metadata": {
      "needs_background": "light"
     },
     "output_type": "display_data"
    }
   ],
   "source": [
    "from matplotlib import pyplot as plt\n",
    "plt.plot(x,y)"
   ]
  },
  {
   "cell_type": "code",
   "execution_count": 7,
   "id": "bright-panel",
   "metadata": {},
   "outputs": [],
   "source": [
    "xy2 = c.regionAgg(ipversion=4, region=\"北京\")"
   ]
  },
  {
   "cell_type": "code",
   "execution_count": 8,
   "id": "robust-racing",
   "metadata": {},
   "outputs": [
    {
     "data": {
      "text/plain": [
       "[<matplotlib.lines.Line2D at 0x7f9102c2d9e8>]"
      ]
     },
     "execution_count": 8,
     "metadata": {},
     "output_type": "execute_result"
    },
    {
     "data": {
      "image/png": "[encoded data removed]",
      "text/plain": [
       "<Figure size 432x288 with 1 Axes>"
      ]
     },
     "metadata": {
      "needs_background": "light"
     },
     "output_type": "display_data"
    }
   ],
   "source": [
    "xy2 = np.array(xy2)\n",
    "x = xy2[:,0]\n",
    "y = xy2[:,1]\n",
    "plt.plot(x,y)"
   ]
  },
  {
   "cell_type": "code",
   "execution_count": 12,
   "id": "absent-impossible",
   "metadata": {},
   "outputs": [],
   "source": [
    "xy3 = c.e2eAgg(sip='240e:928:101:0:0:0:0:d', dip='240e:604:204:900::1e')"
   ]
  },
  {
   "cell_type": "code",
   "execution_count": 13,
   "id": "monthly-ridge",
   "metadata": {},
   "outputs": [
    {
     "data": {
      "text/plain": [
       "[<matplotlib.lines.Line2D at 0x7f9103115ba8>]"
      ]
     },
     "execution_count": 13,
     "metadata": {},
     "output_type": "execute_result"
    },
    {
     "data": {
      "image/png": "[encoded data removed]",
      "text/plain": [
       "<Figure size 432x288 with 1 Axes>"
      ]
     },
     "metadata": {
      "needs_background": "light"
     },
     "output_type": "display_data"
    }
   ],
   "source": [
    "xy3 = np.array(xy3)\n",
    "x = xy3[:,0]\n",
    "y = xy3[:,1]\n",
    "plt.plot(x,y)"
   ]
  },
  {
   "cell_type": "code",
   "execution_count": 2,
   "id": "funny-rochester",
   "metadata": {},
   "outputs": [],
   "source": [
    "a = aggregation.database(\"POLL.json\")\n",
    "filedata = a.filedata()"
   ]
  },
  {
   "cell_type": "code",
   "execution_count": 3,
   "id": "heavy-static",
   "metadata": {},
   "outputs": [
    {
     "data": {
      "text/plain": [
       "529148"
      ]
     },
     "execution_count": 3,
     "metadata": {},
     "output_type": "execute_result"
    }
   ],
   "source": [
    "len(filedata)"
   ]
  },
  {
   "cell_type": "code",
   "execution_count": 28,
   "id": "alone-lobby",
   "metadata": {},
   "outputs": [
    {
     "data": {
      "text/plain": [
       "{'code': '9',\n",
       " 'down_time': '0',\n",
       " 'all_time': '10010',\n",
       " 'dect_ip': '117.184.157.103',\n",
       " 'monitor': '42.157.197.165',\n",
       " 'file_size': '0',\n",
       " 'redirect_time': '0',\n",
       " 'ssl_time': '0',\n",
       " 'dns_time': '80',\n",
       " 'dns_ip': '202.96.128.166',\n",
       " 'port': '443',\n",
       " 'connect_time': '9930',\n",
       " 'dest_ip': '117.184.157.103',\n",
       " 'host': 'vald.rtcp.icbc.com.cn',\n",
       " 'response_time': '0',\n",
       " 'collect_time': '1668009591000',\n",
       " 'status': '0',\n",
       " 'collect_date': '2022-11-09'}"
      ]
     },
     "execution_count": 28,
     "metadata": {},
     "output_type": "execute_result"
    }
   ],
   "source": [
    "filedata[0]"
   ]
  },
  {
   "cell_type": "code",
   "execution_count": 1,
   "id": "atomic-paste",
   "metadata": {},
   "outputs": [],
   "source": [
    "from cachedipinfo import fastwhois\n",
    "b = fastwhois.fastwhois()"
   ]
  },
  {
   "cell_type": "code",
   "execution_count": 2,
   "id": "emerging-seating",
   "metadata": {},
   "outputs": [
    {
     "data": {
      "text/plain": [
       "'222.218.0.0/15'"
      ]
     },
     "execution_count": 2,
     "metadata": {},
     "output_type": "execute_result"
    }
   ],
   "source": [
    "b.localSegSearch('222.218.0.0')"
   ]
  },
  {
   "cell_type": "code",
   "execution_count": 3,
   "id": "alleged-waste",
   "metadata": {},
   "outputs": [
    {
     "data": {
      "text/plain": [
       "'1.68.0.0/14'"
      ]
     },
     "execution_count": 3,
     "metadata": {},
     "output_type": "execute_result"
    }
   ],
   "source": [
    "b.localSegSearch(\"1.68.0.0\")"
   ]
  },
  {
   "cell_type": "code",
   "execution_count": 7,
   "id": "circular-river",
   "metadata": {},
   "outputs": [
    {
     "data": {
      "text/plain": [
       "['2402:f000::/32', '2408:8000::/20', '2409:8000::/20', '240e::/20']"
      ]
     },
     "execution_count": 7,
     "metadata": {},
     "output_type": "execute_result"
    }
   ],
   "source": [
    "b.sortedIPv6Seg"
   ]
  },
  {
   "cell_type": "code",
   "execution_count": 15,
   "id": "reflected-alabama",
   "metadata": {},
   "outputs": [],
   "source": [
    "for key in b.localData:\n",
    "    if b.localData[key][\"ip_seg\"] == \"\":\n",
    "        print(key)"
   ]
  },
  {
   "cell_type": "code",
   "execution_count": 15,
   "id": "average-summer",
   "metadata": {},
   "outputs": [
    {
     "data": {
      "text/plain": [
       "{'code': 0,\n",
       " 'data': {'myip': '2001:da8:ff:212::13:4',\n",
       "  'ip': {'query': '114.114.114.114', 'start': '', 'end': ''},\n",
       "  'location': '江苏省南京市 南京信风网络科技有限公司GreatbitDNS服务器',\n",
       "  'country': '江苏省南京市',\n",
       "  'local': '南京信风网络科技有限公司GreatbitDNS服务器'}}"
      ]
     },
     "execution_count": 15,
     "metadata": {},
     "output_type": "execute_result"
    }
   ],
   "source": [
    "import requests\n",
    "import json\n",
    "geoapi = \"http://ip.zxinc.org/api.php?type=json&ip=\"\n",
    "headers = {'User-Agent':'Mozilla/5.0 (Windows NT 10.0; Win64; x64; rv:78.0) Gecko/20100101 Firefox/78.0'}\n",
    "url = geoapi + \"114.114.114.114\"\n",
    "r = requests.get(url,headers=headers)\n",
    "s = json.loads(r.text[0:])\n",
    "s"
   ]
  },
  {
   "cell_type": "code",
   "execution_count": 82,
   "id": "distinct-minneapolis",
   "metadata": {},
   "outputs": [
    {
     "data": {
      "text/plain": [
       "False"
      ]
     },
     "execution_count": 82,
     "metadata": {},
     "output_type": "execute_result"
    }
   ],
   "source": [
    "from IPy import IP\n",
    "ips = IP('2402:f000::/32')\n",
    "IP('2403:f000:2:3001:a255:5616:4cd7:b102') in ips\n"
   ]
  },
  {
   "cell_type": "code",
   "execution_count": 80,
   "id": "assured-bulgarian",
   "metadata": {},
   "outputs": [
    {
     "data": {
      "text/plain": [
       "47867460220278917480695862503059488768"
      ]
     },
     "execution_count": 80,
     "metadata": {},
     "output_type": "execute_result"
    }
   ],
   "source": [
    "ips.int()"
   ]
  },
  {
   "cell_type": "code",
   "execution_count": 79,
   "id": "aquatic-bible",
   "metadata": {},
   "outputs": [
    {
     "data": {
      "text/plain": [
       "47867460220281562036070363839031914754"
      ]
     },
     "execution_count": 79,
     "metadata": {},
     "output_type": "execute_result"
    }
   ],
   "source": [
    "IP('2402:f000:2:3001:a255:5616:4cd7:b102').int()"
   ]
  },
  {
   "cell_type": "code",
   "execution_count": 10,
   "id": "timely-cocktail",
   "metadata": {},
   "outputs": [],
   "source": [
    "import socket\n",
    "whoisapi = ('whois.apnic.net', 43)\n",
    "s = socket.socket(socket.AF_INET6, socket.SOCK_STREAM)\n",
    "s.connect(whoisapi)\n"
   ]
  },
  {
   "cell_type": "code",
   "execution_count": 17,
   "id": "loved-easter",
   "metadata": {},
   "outputs": [
    {
     "data": {
      "text/plain": [
       "\"bytearray(b'')\""
      ]
     },
     "execution_count": 17,
     "metadata": {},
     "output_type": "execute_result"
    }
   ],
   "source": [
    "ip=\"114.114.114.114\"\n",
    "s.send((ip + '\\r\\n').encode())\n",
    "result = bytearray()\n",
    "while True:\n",
    "    data = s.recv(10000)\n",
    "    if not len(data):\n",
    "        break\n",
    "    result.extend(data)\n",
    "    \n",
    "str(result)"
   ]
  },
  {
   "cell_type": "code",
   "execution_count": 1,
   "id": "central-original",
   "metadata": {},
   "outputs": [],
   "source": [
    "from cachedipinfo import fastwhois"
   ]
  },
  {
   "cell_type": "code",
   "execution_count": 2,
   "id": "engaged-sucking",
   "metadata": {},
   "outputs": [],
   "source": [
    "a = fastwhois.fastwhois()\n",
    "b = fastwhois.fastwhois()"
   ]
  },
  {
   "cell_type": "code",
   "execution_count": 3,
   "id": "authentic-judges",
   "metadata": {},
   "outputs": [
    {
     "data": {
      "text/plain": [
       "(140498110129640, 140498110129640)"
      ]
     },
     "execution_count": 3,
     "metadata": {},
     "output_type": "execute_result"
    }
   ],
   "source": [
    "id(a.localData), id(b.localData)"
   ]
  },
  {
   "cell_type": "code",
   "execution_count": 4,
   "id": "immune-issue",
   "metadata": {},
   "outputs": [
    {
     "data": {
      "text/plain": [
       "{'2402:f000:2:3001:a255:5616:4cd7:b102': {'ip_seg': '2402:f000::/32',\n",
       "  'net_name': 'CERNET2-TSINGHUA6-20080418',\n",
       "  'geo': '中国\\t北京市'},\n",
       " '183.172.53.106': {'ip_seg': '183.172.0.0/14',\n",
       "  'net_name': 'BJR-CERNET',\n",
       "  'inetnum': '183.172.0.0-183.175.255.255',\n",
       "  'geo': '北京市'},\n",
       " '8.8.8.8': {'ip_seg': '8.0.0.0/8',\n",
       "  'net_name': 'IANA-NETBLOCK-8',\n",
       "  'inetnum': '8.0.0.0-8.255.255.255',\n",
       "  'geo': '美国'},\n",
       " '2001:da8:1001:7:211:65:193:11': {'ip_seg': '',\n",
       "  'net_name': 'CNGI-CERNET2-CN-20031110',\n",
       "  'geo': '中国\\t江苏省\\t南京市'},\n",
       " '114.114.114.114': {'ip_seg': '114.114.112.0/21',\n",
       "  'net_name': 'XFInfo',\n",
       "  'inetnum': '114.114.0.0-114.114.255.255',\n",
       "  'geo': '江苏省南京市'},\n",
       " '114.114.114.115': {'ip_seg': '114.114.112.0/21',\n",
       "  'net_name': 'XFInfo',\n",
       "  'inetnum': '114.114.0.0-114.114.255.255',\n",
       "  'geo': '中国'}}"
      ]
     },
     "execution_count": 4,
     "metadata": {},
     "output_type": "execute_result"
    }
   ],
   "source": [
    "a.localData"
   ]
  },
  {
   "cell_type": "code",
   "execution_count": 5,
   "id": "minimal-given",
   "metadata": {},
   "outputs": [
    {
     "data": {
      "text/plain": [
       "{'ip_seg': '114.114.112.0/21',\n",
       " 'net_name': 'XFInfo',\n",
       " 'inetnum': '114.114.0.0-114.114.255.255',\n",
       " 'geo': '江苏省南京市'}"
      ]
     },
     "execution_count": 5,
     "metadata": {},
     "output_type": "execute_result"
    }
   ],
   "source": [
    "a.query(\"114.114.114.114\")"
   ]
  },
  {
   "cell_type": "code",
   "execution_count": 6,
   "id": "happy-arbor",
   "metadata": {},
   "outputs": [
    {
     "data": {
      "text/plain": [
       "IP('114.114.112.0/21')"
      ]
     },
     "execution_count": 6,
     "metadata": {},
     "output_type": "execute_result"
    }
   ],
   "source": [
    "from IPy import IP\n",
    "IP('114.114.112.0/21')"
   ]
  },
  {
   "cell_type": "code",
   "execution_count": 10,
   "id": "noted-setup",
   "metadata": {},
   "outputs": [
    {
     "name": "stdout",
     "output_type": "stream",
     "text": [
      "Help on fastwhois in module cachedipinfo.fastwhois object:\n",
      "\n",
      "class fastwhois(builtins.object)\n",
      " |  Methods defined here:\n",
      " |  \n",
      " |  __init__(self)\n",
      " |      Initialize self.  See help(type(self)) for accurate signature.\n",
      " |  \n",
      " |  localQuery(self, ip)\n",
      " |  \n",
      " |  onlineGeo(self, ip)\n",
      " |  \n",
      " |  onlineWhois(self, ip)\n",
      " |  \n",
      " |  query(self, ip)\n",
      " |  \n",
      " |  update(self, key, val)\n",
      " |  \n",
      " |  ----------------------------------------------------------------------\n",
      " |  Data descriptors defined here:\n",
      " |  \n",
      " |  __dict__\n",
      " |      dictionary for instance variables (if defined)\n",
      " |  \n",
      " |  __weakref__\n",
      " |      list of weak references to the object (if defined)\n",
      " |  \n",
      " |  ----------------------------------------------------------------------\n",
      " |  Data and other attributes defined here:\n",
      " |  \n",
      " |  localData = {'114.114.114.114': {'geo': '江苏省南京市', 'inetnum': '114.114....\n",
      "\n"
     ]
    }
   ],
   "source": [
    "help(a)"
   ]
  },
  {
   "cell_type": "code",
   "execution_count": 6,
   "id": "conventional-newfoundland",
   "metadata": {},
   "outputs": [
    {
     "data": {
      "text/plain": [
       "{'ip_seg': '114.114.112.0/21',\n",
       " 'net_name': 'XFInfo',\n",
       " 'inetnum': '114.114.0.0-114.114.255.255',\n",
       " 'geo': '江苏省南京市'}"
      ]
     },
     "execution_count": 6,
     "metadata": {},
     "output_type": "execute_result"
    }
   ],
   "source": [
    "a.query(\"114.114.114.114\")"
   ]
  },
  {
   "cell_type": "code",
   "execution_count": 8,
   "id": "rolled-interstate",
   "metadata": {},
   "outputs": [
    {
     "data": {
      "text/plain": [
       "{'ip_seg': '8.0.0.0/8',\n",
       " 'net_name': 'IANA-NETBLOCK-8',\n",
       " 'inetnum': '8.0.0.0-8.255.255.255',\n",
       " 'geo': '美国'}"
      ]
     },
     "execution_count": 8,
     "metadata": {},
     "output_type": "execute_result"
    }
   ],
   "source": [
    "a.query(\"8.8.8.8\")"
   ]
  },
  {
   "cell_type": "code",
   "execution_count": 3,
   "id": "furnished-worse",
   "metadata": {},
   "outputs": [
    {
     "data": {
      "text/plain": [
       "{'ip_seg': '8.0.0.0/8',\n",
       " 'net_name': 'IANA-NETBLOCK-8',\n",
       " 'inetnum': '8.0.0.0-8.255.255.255',\n",
       " 'geo': '美国'}"
      ]
     },
     "execution_count": 3,
     "metadata": {},
     "output_type": "execute_result"
    }
   ],
   "source": [
    "a.query(\"8.8.8.8\")"
   ]
  },
  {
   "cell_type": "code",
   "execution_count": 4,
   "id": "hairy-brunswick",
   "metadata": {},
   "outputs": [
    {
     "data": {
      "text/plain": [
       "{'ip_seg': '183.172.0.0/14',\n",
       " 'net_name': 'BJR-CERNET',\n",
       " 'inetnum': '183.172.0.0-183.175.255.255',\n",
       " 'geo': '北京市'}"
      ]
     },
     "execution_count": 4,
     "metadata": {},
     "output_type": "execute_result"
    }
   ],
   "source": [
    "a.query(\"183.172.53.106\")"
   ]
  },
  {
   "cell_type": "code",
   "execution_count": 11,
   "id": "conditional-drove",
   "metadata": {},
   "outputs": [
    {
     "data": {
      "text/plain": [
       "{'ip_seg': '183.172.0.0/14',\n",
       " 'net_name': 'BJR-CERNET',\n",
       " 'inetnum': '183.172.0.0-183.175.255.255',\n",
       " 'geo': '北京市'}"
      ]
     },
     "execution_count": 11,
     "metadata": {},
     "output_type": "execute_result"
    }
   ],
   "source": [
    "a.query(\"183.172.53.106\")"
   ]
  },
  {
   "cell_type": "code",
   "execution_count": 11,
   "id": "coral-lightweight",
   "metadata": {},
   "outputs": [],
   "source": [
    "from nettopo import topobuild\n",
    "a = topobuild.topobuild()"
   ]
  },
  {
   "cell_type": "code",
   "execution_count": 12,
   "id": "working-latter",
   "metadata": {},
   "outputs": [
    {
     "name": "stdout",
     "output_type": "stream",
     "text": [
      "Help on topobuild in module nettopo.topobuild object:\n",
      "\n",
      "class topobuild(builtins.object)\n",
      " |  Methods defined here:\n",
      " |  \n",
      " |  __init__(self)\n",
      " |      Initialize self.  See help(type(self)) for accurate signature.\n",
      " |  \n",
      " |  mtr2topo(self, mtr)\n",
      " |  \n",
      " |  query(self, monitor, dest)\n",
      " |  \n",
      " |  update(self, key, path, mtime)\n",
      " |  \n",
      " |  ----------------------------------------------------------------------\n",
      " |  Data descriptors defined here:\n",
      " |  \n",
      " |  __dict__\n",
      " |      dictionary for instance variables (if defined)\n",
      " |  \n",
      " |  __weakref__\n",
      " |      list of weak references to the object (if defined)\n",
      "\n"
     ]
    }
   ],
   "source": [
    "help(a)"
   ]
  },
  {
   "cell_type": "code",
   "execution_count": 2,
   "id": "peripheral-wheat",
   "metadata": {},
   "outputs": [],
   "source": [
    "mtr = {'monitor': '183.201.234.102',\n",
    " 'port': '443',\n",
    " 'route_info': 'bXRyPVN0YXJ0OiBXZWQgTm92ICA5IDIzOjU3OjUzIDIwMjIKSE9TVDogVk0tVFlOLTAxV0ViMTAyIExvc3MlICAgU250ICAgTGFzdCAgIEF2ZyAgQmVzdCAgV3JzdCBTdERldgogIDEufC0tIDE4My4yMDEuMjM0LjEgICAgMC4wJSAgICA1MCAgICAxLjcgICA3LjMgICAxLjQgIDM4LjYgICA3LjIKICAyLnwtLSAxNzIuMTYuMS40MSAgICAgIDAuMCUgICAgNTAgICAgMS45ICAgNy43ICAgMS4zICAyOS44ICAgNy42CiAgMy58LS0gMTgzLjIwMy4xMTAuMTUzICA4LjAlICAgIDUwICAgIDIuOCAgIDYuNiAgIDIuMiAgMjUuMSAgIDYuNAogIDQufC0tIDE4My4yMDMuMTEwLjE3ICAgMC4wJSAgICA1MCAgICA4LjcgIDEwLjQgICAxLjIgMTExLjkgIDE5LjEKICA1LnwtLSAyMjEuMTgzLjU5LjExNyAgIDAuMCUgICAgNTAgICAgNS43ICAgNi4xICAgMS40ICAyMS4xICAgNS43CiAgNi58LS0gMjIxLjE4My40Mi4xMzMgICAwLjAlICAgIDUwICAgMjcuNSAgMzguMSAgMjcuNSAxOTYuOCAgMjYuMgogIDcufC0tIDIyMS4xODMuNzkuMTIyICAgMC4wJSAgICA1MCAgIDI4LjIgIDMyLjIgIDI3LjIgIDU2LjMgICA2LjIKICA4LnwtLSAyMjMuMTExLjQuNiAgICAgIDQuMCUgICAgNTAgICAyOC43ICAzNi45ICAyOC42IDE5My4zICAyNS40CiAgOS58LS0gPz8/ICAgICAgICAgICAgIDEwMC4wICAgIDUwICAgIDAuMCAgIDAuMCAgIDAuMCAgIDAuMCAgIDAuMAo=',\n",
    " 'dest_ip': '223.111.17.145',\n",
    " 'host': 'mall.icbc.com.cn',\n",
    " 'collect_time': '1668009472000',\n",
    " 'collect_date': '2022-11-09',\n",
    " 'error_type': 'nmap_fail: filtered'}"
   ]
  },
  {
   "cell_type": "code",
   "execution_count": 3,
   "id": "complicated-shelter",
   "metadata": {},
   "outputs": [],
   "source": [
    "a.mtr2topo(mtr)"
   ]
  },
  {
   "cell_type": "code",
   "execution_count": 4,
   "id": "contemporary-entrepreneur",
   "metadata": {},
   "outputs": [
    {
     "data": {
      "text/plain": [
       "{'223.111.4.6': 1668009472000,\n",
       " '221.183.79.122': 1668009472000,\n",
       " '183.203.110.17': 1668009472000,\n",
       " '183.203.110.153': 1668009472000,\n",
       " '221.183.59.117': 1668009472000,\n",
       " '172.16.1.41': 1668009472000,\n",
       " '221.183.42.133': 1668009472000,\n",
       " '183.201.234.1': 1668009472000}"
      ]
     },
     "execution_count": 4,
     "metadata": {},
     "output_type": "execute_result"
    }
   ],
   "source": [
    "a.query(monitor='183.201.234.102', dest='223.111.17.145')"
   ]
  },
  {
   "cell_type": "markdown",
   "id": "b379bedf",
   "metadata": {},
   "source": [
    "# nly"
   ]
  },
  {
   "cell_type": "code",
   "execution_count": 1,
   "id": "4f985842",
   "metadata": {},
   "outputs": [],
   "source": [
    "import json\n",
    "\n",
    "def load_json(filename):\n",
    "    with open(filename,'r',encoding='utf-8') as f:\n",
    "        return json.load(f)"
   ]
  },
  {
   "cell_type": "code",
   "execution_count": 2,
   "id": "342732b6",
   "metadata": {},
   "outputs": [
    {
     "data": {
      "text/plain": [
       "['/home/nly/DNS/icbc/analysis_script/WGQ-mapping/WGQ-DNS日志（关键字mapsystm）_6.csv',\n",
       " '/home/nly/DNS/icbc/analysis_script/WGQ-mapping/WGQ-DNS日志（关键字mapsystm）_4.csv',\n",
       " '/home/nly/DNS/icbc/analysis_script/WGQ-mapping/WGQ-DNS日志（关键字mapsystm）_9.csv',\n",
       " '/home/nly/DNS/icbc/analysis_script/WGQ-mapping/WGQ-DNS日志（关键字mapsystm）_11.csv',\n",
       " '/home/nly/DNS/icbc/analysis_script/WGQ-mapping/WGQ-DNS日志（关键字mapsystm）_61.csv']"
      ]
     },
     "execution_count": 2,
     "metadata": {},
     "output_type": "execute_result"
    }
   ],
   "source": [
    "import pandas as pd\n",
    "import numpy as np\n",
    "from collections import Counter,defaultdict\n",
    "import os\n",
    "\n",
    "def getfilelist(cur_path):\n",
    "    filelist=[]\n",
    "    for parent,dirs,files in os.walk(cur_path):\n",
    "        flist=list(map(lambda x:os.path.join(parent,x),files))\n",
    "        filelist.extend(flist)\n",
    "    return filelist\n",
    "\n",
    "LOGPATH='/home/nly/DNS/icbc/analysis_script/WGQ-mapping'\n",
    "\n",
    "filelist = getfilelist(LOGPATH)\n",
    "filelist"
   ]
  },
  {
   "cell_type": "code",
   "execution_count": 3,
   "id": "12be9890",
   "metadata": {},
   "outputs": [
    {
     "data": {
      "text/html": [
       "<div>\n",
       "<style scoped>\n",
       "    .dataframe tbody tr th:only-of-type {\n",
       "        vertical-align: middle;\n",
       "    }\n",
       "\n",
       "    .dataframe tbody tr th {\n",
       "        vertical-align: top;\n",
       "    }\n",
       "\n",
       "    .dataframe thead th {\n",
       "        text-align: right;\n",
       "    }\n",
       "</style>\n",
       "<table border=\"1\" class=\"dataframe\">\n",
       "  <thead>\n",
       "    <tr style=\"text-align: right;\">\n",
       "      <th></th>\n",
       "      <th>cName</th>\n",
       "      <th>客户端地理位置</th>\n",
       "      <th>请求接收端</th>\n",
       "      <th>请求发起端</th>\n",
       "      <th>开始时间</th>\n",
       "    </tr>\n",
       "  </thead>\n",
       "  <tbody>\n",
       "    <tr>\n",
       "      <th>0</th>\n",
       "      <td>2409:8c28:2808:4:800:0:0:52x8478xmapsystm.icbc...</td>\n",
       "      <td>浙江</td>\n",
       "      <td>211.95.81.245</td>\n",
       "      <td>211.140.11.69</td>\n",
       "      <td>2022-10-15 10:09:56.901512291</td>\n",
       "    </tr>\n",
       "    <tr>\n",
       "      <th>1</th>\n",
       "      <td>223-111-25-156x7646xmapsystm.icbc.com.cn</td>\n",
       "      <td>中国</td>\n",
       "      <td>2408:8026:A0:1000::FFFB</td>\n",
       "      <td>2409:8020:2000:824::A</td>\n",
       "      <td>2022-10-15 10:09:56.190861466</td>\n",
       "    </tr>\n",
       "    <tr>\n",
       "      <th>2</th>\n",
       "      <td>45-115-167-32x7421xmapsystm.icbc.com.cn</td>\n",
       "      <td>中国</td>\n",
       "      <td>240E:E5:8001:1600::FFFB</td>\n",
       "      <td>2409:8020:2000:223::B</td>\n",
       "      <td>2022-10-15 10:09:53.225699380</td>\n",
       "    </tr>\n",
       "    <tr>\n",
       "      <th>3</th>\n",
       "      <td>240e:c1:6800:0:0:0:0:35x82xmapsystm.icbc.com.cn</td>\n",
       "      <td>中国</td>\n",
       "      <td>240E:E5:8001:1600::FFFB</td>\n",
       "      <td>240E:10:4001:2709::4</td>\n",
       "      <td>2022-10-15 10:09:53.757105164</td>\n",
       "    </tr>\n",
       "    <tr>\n",
       "      <th>4</th>\n",
       "      <td>2408:8649:5300:1:0:0:0:dex427xmapsystm.icbc.co...</td>\n",
       "      <td>福建</td>\n",
       "      <td>211.95.81.245</td>\n",
       "      <td>175.43.16.130</td>\n",
       "      <td>2022-10-15 10:09:53.189089267</td>\n",
       "    </tr>\n",
       "  </tbody>\n",
       "</table>\n",
       "</div>"
      ],
      "text/plain": [
       "                                               cName 客户端地理位置  \\\n",
       "0  2409:8c28:2808:4:800:0:0:52x8478xmapsystm.icbc...      浙江   \n",
       "1           223-111-25-156x7646xmapsystm.icbc.com.cn      中国   \n",
       "2            45-115-167-32x7421xmapsystm.icbc.com.cn      中国   \n",
       "3    240e:c1:6800:0:0:0:0:35x82xmapsystm.icbc.com.cn      中国   \n",
       "4  2408:8649:5300:1:0:0:0:dex427xmapsystm.icbc.co...      福建   \n",
       "\n",
       "                     请求接收端                  请求发起端  \\\n",
       "0            211.95.81.245          211.140.11.69   \n",
       "1  2408:8026:A0:1000::FFFB  2409:8020:2000:824::A   \n",
       "2  240E:E5:8001:1600::FFFB  2409:8020:2000:223::B   \n",
       "3  240E:E5:8001:1600::FFFB   240E:10:4001:2709::4   \n",
       "4            211.95.81.245          175.43.16.130   \n",
       "\n",
       "                            开始时间  \n",
       "0  2022-10-15 10:09:56.901512291  \n",
       "1  2022-10-15 10:09:56.190861466  \n",
       "2  2022-10-15 10:09:53.225699380  \n",
       "3  2022-10-15 10:09:53.757105164  \n",
       "4  2022-10-15 10:09:53.189089267  "
      ]
     },
     "execution_count": 3,
     "metadata": {},
     "output_type": "execute_result"
    }
   ],
   "source": [
    "# 先映射 C-E\n",
    "# 导入工行DNS报表 /home/nly/DNS/icbc/analysis_script/mapping\n",
    "# # df = pd.read_excel('工行DNS请求报表.xlsx',usecols=['时间','响应时间','每秒字节数','客户端地理位置','请求发起端','请求接收端','cName'])\n",
    "df = pd.DataFrame()\n",
    "for f in filelist:\n",
    "    newfile = '/home/nly/DNS/icbc/analysis_script/mapping_new/'+f.split('/')[-1]\n",
    "    fin=open(f,'r',encoding='gbk')\n",
    "    fout=open(newfile,'w')\n",
    "\n",
    "    a=fin.read()\n",
    "    # b='\\n'.join([l.replace for l in a])\n",
    "    b=a.replace('=','').replace('\"','')\n",
    "    \n",
    "\n",
    "    fout.write(b)\n",
    "\n",
    "    fin.close()\n",
    "    fout.close()\n",
    "\n",
    "    tmp = pd.read_csv(newfile,usecols=['开始时间','客户端地理位置','请求发起端','请求接收端','cName'],encoding='utf-8',sep=',')\n",
    "    df = pd.concat([df,tmp])\n",
    "\n",
    "df[:5]"
   ]
  },
  {
   "cell_type": "code",
   "execution_count": null,
   "id": "bca2e6e3",
   "metadata": {},
   "outputs": [],
   "source": []
  }
 ],
 "metadata": {
  "kernelspec": {
   "display_name": "base",
   "language": "python",
   "name": "base"
  },
  "language_info": {
   "codemirror_mode": {
    "name": "ipython",
    "version": 3
   },
   "file_extension": ".py",
   "mimetype": "text/x-python",
   "name": "python",
   "nbconvert_exporter": "python",
   "pygments_lexer": "ipython3",
   "version": "3.9.7"
  }
 },
 "nbformat": 4,
 "nbformat_minor": 5
}
