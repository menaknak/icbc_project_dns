{
 "cells": [
  {
   "cell_type": "code",
   "execution_count": 1,
   "id": "c7f6c0aa",
   "metadata": {},
   "outputs": [
    {
     "name": "stderr",
     "output_type": "stream",
     "text": [
      "/home/nly/anaconda3/lib/python3.9/site-packages/scipy/__init__.py:146: UserWarning: A NumPy version >=1.16.5 and <1.23.0 is required for this version of SciPy (detected version 1.23.5\n",
      "  warnings.warn(f\"A NumPy version >={np_minversion} and <{np_maxversion}\"\n"
     ]
    }
   ],
   "source": [
    "from pprint import pprint as pp\n",
    "import pandas as pd\n",
    "import numpy as np\n",
    "from collections import Counter,defaultdict\n",
    "import os\n",
    "import json\n",
    "import datetime\n",
    "\n",
    "def unix2datetime(ts):\n",
    "    return datetime.datetime.fromtimestamp(ts)\n",
    "\n",
    "def load_json(filename):\n",
    "    with open(filename,'r',encoding='utf-8') as f:\n",
    "        return json.load(f)\n",
    "\n",
    "def load_data(filename):\n",
    "    if 'txt' in filename or 'csv' or 'json' in  filename:\n",
    "        ip_list=[]\n",
    "        with open(filename,'r') as f:\n",
    "            ip_list=f.readlines()\n",
    "        return [i.strip().replace('null','None').replace('true','True').replace('false','False') for i in ip_list]\n",
    "    else:\n",
    "        import pickle\n",
    "        with open(filename,'rb') as f:\n",
    "            return pickle.load(f)\n",
    "        \n",
    "def getfilelist(cur_path):\n",
    "    filelist=[]\n",
    "    for parent,dirs,files in os.walk(cur_path):\n",
    "        flist=list(map(lambda x:os.path.join(parent,x),files))\n",
    "        filelist.extend(flist)\n",
    "    return filelist\n",
    "\n",
    "\n",
    "\n",
    "    \n",
    "import matplotlib.pyplot as plt\n",
    "%matplotlib inline\n",
    "# import warnings #忽略告警信息****\n",
    "# warnings.filterwarnings(\"ignore\") #忽略告警信息****\n",
    "%config InlineBackend.figure_format = 'retina'\n",
    "# plt.rcParams['font.sans-serif'] = [u'SimHei']\n",
    "# plt.rcParams['font.sans-serif'] = [u'Formata']\n",
    "\n",
    "plt.rcParams['axes.unicode_minus'] = False\n",
    "\n",
    "import statsmodels.api as sm\n",
    "\n",
    "pd.options.display.max_columns = None\n",
    "pd.options.display.max_rows = None\n",
    "\n",
    "# import matplotlib.ticker as mticker  \n",
    "import matplotlib\n",
    "\n",
    "import matplotlib as mpl\n",
    "mpl.rcParams['pdf.fonttype'] = 42\n",
    "mpl.rcParams['ps.fonttype'] = 42\n",
    "\n",
    "# DATE = time.strftime('%Y%m%d',time.localtime())\n",
    "\n",
    "# plt.style.use(\"seaborn-pastel\")\n",
    "    \n",
    "import matplotlib.pyplot as plt\n",
    "%matplotlib inline\n",
    "import warnings #忽略告警信息****\n",
    "warnings.filterwarnings(\"ignore\") #忽略告警信息****\n",
    "%config InlineBackend.figure_format = 'retina'"
   ]
  },
  {
   "cell_type": "code",
   "execution_count": 2,
   "id": "2d9c660a",
   "metadata": {},
   "outputs": [],
   "source": [
    "import pandas as pd\n",
    "\n",
    "pd.options.display.max_columns = None\n",
    "pd.options.display.max_rows = None"
   ]
  },
  {
   "cell_type": "markdown",
   "id": "ae4e1ef5",
   "metadata": {},
   "source": [
    "# 开发测试"
   ]
  },
  {
   "cell_type": "code",
   "execution_count": 3,
   "id": "67abe4c4",
   "metadata": {
    "scrolled": true
   },
   "outputs": [],
   "source": [
    "from dataagg import dnsaggregation\n",
    "# f = '/home/nly/thu_ftp/dns_ana/2022-07-14/AAAA.json'\n",
    "# f = '/home/nly/thu_ftp/dns_ana/2022-07-14/test.json'\n",
    "f = '/home/nly/thu_ftp/dns_ana/2022-07-14/MX_v6.json'\n",
    "\n",
    "j = load_json(f)\n"
   ]
  },
  {
   "cell_type": "code",
   "execution_count": 4,
   "id": "578b7466",
   "metadata": {},
   "outputs": [
    {
     "data": {
      "text/plain": [
       "{'ldns': '202.98.96.68',\n",
       " 'adns': 'bjtns2.icbc.com.cn.',\n",
       " 'domain': 'icbc.com.cn',\n",
       " 'udp_buffer_size': '4096',\n",
       " 'q_type': 'MX_v6',\n",
       " 'answers': 'aWNiYy5jb20uY24uCQkxMjAwCUlOCU1YCTEwIG14MS5pY2JjLmNvbS5jbi4KaWNiYy5jb20uY24uCQkxMjAwCUlOCU1YCTUwIG14Mi5pY2JjLmNvbS5jbi4K',\n",
       " 'query_time': '35',\n",
       " 'msgsize': '543',\n",
       " 'monitor': '240e:d9:a600:804:0:0:0:6d',\n",
       " 'dns_ip': '240e:604:204:900::fff0',\n",
       " 'collect_time': '1657808126000',\n",
       " 'answer_num': '2',\n",
       " 'nxd_1': '',\n",
       " 'adns_2_latency': '',\n",
       " 'adns_2_status': '',\n",
       " 'ips': '',\n",
       " 'collect_date': '2022-07-14'}"
      ]
     },
     "execution_count": 4,
     "metadata": {},
     "output_type": "execute_result"
    }
   ],
   "source": [
    "j[1]"
   ]
  },
  {
   "cell_type": "code",
   "execution_count": 5,
   "id": "f2e8cbf5",
   "metadata": {},
   "outputs": [],
   "source": [
    "from dnstroubleshoot import mxtroubleshoot\n",
    "dect = mxtroubleshoot.mxtroubleshoot()\n",
    "dect.detect(j[1])"
   ]
  },
  {
   "cell_type": "code",
   "execution_count": null,
   "id": "f5c850ff",
   "metadata": {},
   "outputs": [],
   "source": []
  }
 ],
 "metadata": {
  "kernelspec": {
   "display_name": "base",
   "language": "python",
   "name": "base"
  },
  "language_info": {
   "codemirror_mode": {
    "name": "ipython",
    "version": 3
   },
   "file_extension": ".py",
   "mimetype": "text/x-python",
   "name": "python",
   "nbconvert_exporter": "python",
   "pygments_lexer": "ipython3",
   "version": "3.9.7"
  }
 },
 "nbformat": 4,
 "nbformat_minor": 5
}
