{
 "cells": [
  {
   "cell_type": "code",
   "execution_count": 1,
   "id": "7be7b9b3",
   "metadata": {},
   "outputs": [
    {
     "name": "stderr",
     "output_type": "stream",
     "text": [
      "/home/nly/anaconda3/lib/python3.9/site-packages/scipy/__init__.py:146: UserWarning: A NumPy version >=1.16.5 and <1.23.0 is required for this version of SciPy (detected version 1.23.5\n",
      "  warnings.warn(f\"A NumPy version >={np_minversion} and <{np_maxversion}\"\n"
     ]
    }
   ],
   "source": [
    "from pprint import pprint as pp\n",
    "import pandas as pd\n",
    "import numpy as np\n",
    "from collections import Counter,defaultdict\n",
    "import os\n",
    "\n",
    "def load_data(filename):\n",
    "    if 'txt' in filename or 'csv' or 'json' in  filename:\n",
    "        ip_list=[]\n",
    "        with open(filename,'r') as f:\n",
    "            ip_list=f.readlines()\n",
    "        return [i.strip().replace('null','None').replace('true','True').replace('false','False') for i in ip_list]\n",
    "    else:\n",
    "        import pickle\n",
    "        with open(filename,'rb') as f:\n",
    "            return pickle.load(f)\n",
    "        \n",
    "def getfilelist(cur_path):\n",
    "    filelist=[]\n",
    "    for parent,dirs,files in os.walk(cur_path):\n",
    "        flist=list(map(lambda x:os.path.join(parent,x),files))\n",
    "        filelist.extend(flist)\n",
    "    return filelist\n",
    "\n",
    "\n",
    "import json\n",
    "\n",
    "def load_json(filename):\n",
    "    with open(filename,'r',encoding='utf-8') as f:\n",
    "        return json.load(f)\n",
    "    \n",
    "import matplotlib.pyplot as plt\n",
    "%matplotlib inline\n",
    "import seaborn as sns\n",
    "\n",
    "import warnings #忽略告警信息****\n",
    "warnings.filterwarnings(\"ignore\") #忽略告警信息****\n",
    "%config InlineBackend.figure_format = 'retina'\n",
    "# plt.rcParams['font.sans-serif'] = [u'SimHei']\n",
    "# plt.rcParams['font.sans-serif'] = [u'Formata']\n",
    "\n",
    "# plt.rcParams['axes.unicode_minus'] = False\n",
    "plt.rcParams['font.sans-serif'] = ['SimHei']\n",
    "plt.rcParams['axes.unicode_minus'] = False\n",
    "\n",
    "import statsmodels.api as sm\n",
    "\n",
    "pd.options.display.max_columns = None\n",
    "pd.options.display.max_rows = None\n",
    "\n",
    "# import matplotlib.ticker as mticker  \n",
    "# import matplotlib\n",
    "\n",
    "# import matplotlib as mpl\n",
    "# mpl.rcParams['pdf.fonttype'] = 42\n",
    "# mpl.rcParams['ps.fonttype'] = 42\n",
    "import time\n",
    "\n",
    "DATE = time.strftime('%Y%m%d+%H=%M=%S',time.localtime())\n",
    "\n",
    "# plt.style.use(\"seaborn-pastel\") "
   ]
  },
  {
   "cell_type": "code",
   "execution_count": 2,
   "id": "25814731",
   "metadata": {},
   "outputs": [
    {
     "data": {
      "text/plain": [
       "['/home/nly/DNS/icbc/analysis_script/JD_mapping/JD-DNS日志（关键字mapsystm）_1022.csv']"
      ]
     },
     "execution_count": 2,
     "metadata": {},
     "output_type": "execute_result"
    }
   ],
   "source": [
    "LOGPATH='/home/nly/DNS/icbc/analysis_script/JD_mapping'\n",
    "\n",
    "filelist = getfilelist(LOGPATH)\n",
    "filelist"
   ]
  },
  {
   "cell_type": "code",
   "execution_count": 10,
   "id": "5cad9eb2",
   "metadata": {},
   "outputs": [],
   "source": [
    "# 先映射 C-E\n",
    "# 导入工行DNS报表 /home/nly/DNS/icbc/analysis_script/mapping\n",
    "# # df = pd.read_excel('工行DNS请求报表.xlsx',usecols=['时间','响应时间','每秒字节数','客户端地理位置','请求发起端','请求接收端','cName'])\n",
    "df = pd.DataFrame()\n",
    "for f in filelist:\n",
    "    newfile = '/home/nly/DNS/icbc/analysis_script/mapping_new/'+f.split('/')[-1]\n",
    "    fin=open(f,'r',encoding='gbk')\n",
    "    fout=open(newfile,'w')\n",
    "\n",
    "    a=fin.read()\n",
    "    # b='\\n'.join([l.replace for l in a])\n",
    "    b=a.replace('=','').replace('\"','')\n",
    "    \n",
    "\n",
    "    fout.write(b)\n",
    "\n",
    "    fin.close()\n",
    "    fout.close()\n",
    "\n",
    "    tmp = pd.read_csv(newfile,usecols=['开始时间','客户端地理位置','请求发起端','请求接收端','cName'],encoding='utf-8',sep=',')\n",
    "    df = pd.concat([df,tmp])"
   ]
  },
  {
   "cell_type": "code",
   "execution_count": 11,
   "id": "4bd0a3fb",
   "metadata": {},
   "outputs": [
    {
     "data": {
      "text/plain": [
       "12301"
      ]
     },
     "execution_count": 11,
     "metadata": {},
     "output_type": "execute_result"
    }
   ],
   "source": [
    "len(df)"
   ]
  },
  {
   "cell_type": "code",
   "execution_count": 5,
   "id": "3af93300",
   "metadata": {},
   "outputs": [],
   "source": [
    "def avg(nums):\n",
    "    if not nums: return -1\n",
    "    nums = [int(i) for i in nums]\n",
    "    return sum(nums)/len(nums)\n",
    "\n",
    "# 读取客户端的数据\n",
    "f = '/home/nly/thu_ftp/dns_ana/2022-07-14/A.json'\n",
    "j = load_json(f)\n",
    "\n",
    "dfall = pd.DataFrame(j)\n",
    "# dfall = dfall.drop(['answers'],axis=1)\n",
    "dfall['collect_time'] = dfall['collect_time'].astype(int)\n",
    "dfall['collect_time'] = dfall['collect_time']//1000\n",
    "dfall = dfall.set_index(['collect_time'],drop=False)\n",
    "dfall = dfall.sort_index(axis=0) # 按 index 排序，默认升序\n",
    "dfall['query_time'] = dfall['query_time'].astype(int)\n",
    "dfall['nxd_1'] = dfall['nxd_1'].map(lambda cell: avg(cell.split(';')[1:]))\n",
    "dfall['adns_2_latency'] = dfall['adns_2_latency'].map(lambda cell: avg(cell.split(';')[1:]))\n",
    "\n",
    "# df = dfall"
   ]
  },
  {
   "cell_type": "code",
   "execution_count": 9,
   "id": "9945281a",
   "metadata": {},
   "outputs": [
    {
     "data": {
      "text/plain": [
       "Index(['ldns', 'adns', 'domain', 'udp_buffer_size', 'q_type', 'answers',\n",
       "       'query_time', 'msgsize', 'monitor', 'dns_ip', 'collect_time',\n",
       "       'answer_num', 'nxd_1', 'adns_2_latency', 'adns_2_status', 'ips',\n",
       "       'collect_date'],\n",
       "      dtype='object')"
      ]
     },
     "execution_count": 9,
     "metadata": {},
     "output_type": "execute_result"
    }
   ],
   "source": [
    "dfall.columns\n"
   ]
  },
  {
   "cell_type": "code",
   "execution_count": 12,
   "id": "342fbbfe",
   "metadata": {},
   "outputs": [],
   "source": [
    "from dnsinfocollection import dnsresolutioninfo\n",
    "\n",
    "info = dnsresolutioninfo.dnsresolutioninfo()\n",
    "\n",
    "# adns =info.ADNSInfoExtract(df)\n",
    "# client = info.clientInfoExtract(dfall)\n",
    "merged = info.infoMerge(df,dfall)"
   ]
  },
  {
   "cell_type": "code",
   "execution_count": 13,
   "id": "b9b8b674",
   "metadata": {},
   "outputs": [
    {
     "data": {
      "text/html": [
       "<div>\n",
       "<style scoped>\n",
       "    .dataframe tbody tr th:only-of-type {\n",
       "        vertical-align: middle;\n",
       "    }\n",
       "\n",
       "    .dataframe tbody tr th {\n",
       "        vertical-align: top;\n",
       "    }\n",
       "\n",
       "    .dataframe thead th {\n",
       "        text-align: right;\n",
       "    }\n",
       "</style>\n",
       "<table border=\"1\" class=\"dataframe\">\n",
       "  <thead>\n",
       "    <tr style=\"text-align: right;\">\n",
       "      <th></th>\n",
       "      <th>time</th>\n",
       "      <th>C_IP</th>\n",
       "      <th>C_LOCATION</th>\n",
       "      <th>IN_IP</th>\n",
       "      <th>IN_LOCATION</th>\n",
       "      <th>E_IP</th>\n",
       "      <th>E_LOCATION</th>\n",
       "      <th>A_IP</th>\n",
       "      <th>A_LOCATION</th>\n",
       "    </tr>\n",
       "  </thead>\n",
       "  <tbody>\n",
       "    <tr>\n",
       "      <th>0</th>\n",
       "      <td>2022-10-22 23:59:54.746920253</td>\n",
       "      <td>45.115.167.32</td>\n",
       "      <td>江苏省镇江市 联通</td>\n",
       "      <td>119.29.29.29</td>\n",
       "      <td>北京市 腾讯云</td>\n",
       "      <td>2409:8020:2000:223::8</td>\n",
       "      <td>中国\\t江苏省 中国移动\\t城域网</td>\n",
       "      <td>2409:871E:8200:4::FFFB</td>\n",
       "      <td>中国\\t上海市\\t嘉定区 中国移动\\t政企专线</td>\n",
       "    </tr>\n",
       "    <tr>\n",
       "      <th>1</th>\n",
       "      <td>2022-10-22 23:59:53.215704445</td>\n",
       "      <td>36.156.127.62</td>\n",
       "      <td>江苏省 移动</td>\n",
       "      <td>119.29.29.29</td>\n",
       "      <td>北京市 腾讯云</td>\n",
       "      <td>2409:8020:2000:223::9</td>\n",
       "      <td>中国\\t江苏省 中国移动\\t城域网</td>\n",
       "      <td>2409:871E:8200:4::FFFB</td>\n",
       "      <td>中国\\t上海市\\t嘉定区 中国移动\\t政企专线</td>\n",
       "    </tr>\n",
       "    <tr>\n",
       "      <th>2</th>\n",
       "      <td>2022-10-22 23:59:51.379367557</td>\n",
       "      <td>45.115.167.32</td>\n",
       "      <td>江苏省镇江市 联通</td>\n",
       "      <td>119.29.29.29</td>\n",
       "      <td>北京市 腾讯云</td>\n",
       "      <td>2409:8020:2000:223::B</td>\n",
       "      <td>中国\\t江苏省 中国移动\\t城域网</td>\n",
       "      <td>2409:871E:8200:4::FFFB</td>\n",
       "      <td>中国\\t上海市\\t嘉定区 中国移动\\t政企专线</td>\n",
       "    </tr>\n",
       "    <tr>\n",
       "      <th>3</th>\n",
       "      <td>2022-10-22 23:59:42.202056675</td>\n",
       "      <td>36.156.127.62</td>\n",
       "      <td>江苏省 移动</td>\n",
       "      <td>119.29.29.29</td>\n",
       "      <td>北京市 腾讯云</td>\n",
       "      <td>2409:8020:2000:223::A</td>\n",
       "      <td>中国\\t江苏省 中国移动\\t城域网</td>\n",
       "      <td>2409:871E:8200:4::FFFB</td>\n",
       "      <td>中国\\t上海市\\t嘉定区 中国移动\\t政企专线</td>\n",
       "    </tr>\n",
       "    <tr>\n",
       "      <th>4</th>\n",
       "      <td>2022-10-22 23:59:28.398028239</td>\n",
       "      <td>2409:8c7a:a01:60:0:0:0:1ce</td>\n",
       "      <td>中国\\t宁夏区\\t银川市\\t西夏区 中国移动\\tIDC</td>\n",
       "      <td>NaN</td>\n",
       "      <td>NaN</td>\n",
       "      <td>2409:807A:2001:1001::44</td>\n",
       "      <td>中国\\t宁夏区 中国移动\\t城域网</td>\n",
       "      <td>2409:871E:8200:4::FFFB</td>\n",
       "      <td>中国\\t上海市\\t嘉定区 中国移动\\t政企专线</td>\n",
       "    </tr>\n",
       "  </tbody>\n",
       "</table>\n",
       "</div>"
      ],
      "text/plain": [
       "                            time                        C_IP  \\\n",
       "0  2022-10-22 23:59:54.746920253               45.115.167.32   \n",
       "1  2022-10-22 23:59:53.215704445               36.156.127.62   \n",
       "2  2022-10-22 23:59:51.379367557               45.115.167.32   \n",
       "3  2022-10-22 23:59:42.202056675               36.156.127.62   \n",
       "4  2022-10-22 23:59:28.398028239  2409:8c7a:a01:60:0:0:0:1ce   \n",
       "\n",
       "                    C_LOCATION         IN_IP IN_LOCATION  \\\n",
       "0                    江苏省镇江市 联通  119.29.29.29     北京市 腾讯云   \n",
       "1                       江苏省 移动  119.29.29.29     北京市 腾讯云   \n",
       "2                    江苏省镇江市 联通  119.29.29.29     北京市 腾讯云   \n",
       "3                       江苏省 移动  119.29.29.29     北京市 腾讯云   \n",
       "4  中国\\t宁夏区\\t银川市\\t西夏区 中国移动\\tIDC           NaN         NaN   \n",
       "\n",
       "                      E_IP         E_LOCATION                    A_IP  \\\n",
       "0    2409:8020:2000:223::8  中国\\t江苏省 中国移动\\t城域网  2409:871E:8200:4::FFFB   \n",
       "1    2409:8020:2000:223::9  中国\\t江苏省 中国移动\\t城域网  2409:871E:8200:4::FFFB   \n",
       "2    2409:8020:2000:223::B  中国\\t江苏省 中国移动\\t城域网  2409:871E:8200:4::FFFB   \n",
       "3    2409:8020:2000:223::A  中国\\t江苏省 中国移动\\t城域网  2409:871E:8200:4::FFFB   \n",
       "4  2409:807A:2001:1001::44  中国\\t宁夏区 中国移动\\t城域网  2409:871E:8200:4::FFFB   \n",
       "\n",
       "                A_LOCATION  \n",
       "0  中国\\t上海市\\t嘉定区 中国移动\\t政企专线  \n",
       "1  中国\\t上海市\\t嘉定区 中国移动\\t政企专线  \n",
       "2  中国\\t上海市\\t嘉定区 中国移动\\t政企专线  \n",
       "3  中国\\t上海市\\t嘉定区 中国移动\\t政企专线  \n",
       "4  中国\\t上海市\\t嘉定区 中国移动\\t政企专线  "
      ]
     },
     "execution_count": 13,
     "metadata": {},
     "output_type": "execute_result"
    }
   ],
   "source": [
    "merged[:5]"
   ]
  }
 ],
 "metadata": {
  "kernelspec": {
   "display_name": "base",
   "language": "python",
   "name": "base"
  },
  "language_info": {
   "codemirror_mode": {
    "name": "ipython",
    "version": 3
   },
   "file_extension": ".py",
   "mimetype": "text/x-python",
   "name": "python",
   "nbconvert_exporter": "python",
   "pygments_lexer": "ipython3",
   "version": "3.9.7"
  }
 },
 "nbformat": 4,
 "nbformat_minor": 5
}
